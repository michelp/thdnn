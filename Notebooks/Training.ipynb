{
 "cells": [
  {
   "cell_type": "code",
   "execution_count": 1,
   "metadata": {},
   "outputs": [
    {
     "data": {
      "text/html": [
       "<style>.container { width:100% !important; }</style>"
      ],
      "text/plain": [
       "<IPython.core.display.HTML object>"
      ]
     },
     "metadata": {},
     "output_type": "display_data"
    }
   ],
   "source": [
    "import os\n",
    "import sys\n",
    "from random import shuffle\n",
    "from pathlib import Path\n",
    "from pygraphblas import gviz\n",
    "import pygraphblas as pg\n",
    "\n",
    "from IPython.core.display import display, HTML\n",
    "display(HTML(\"<style>.container { width:100% !important; }</style>\"))\n"
   ]
  },
  {
   "cell_type": "code",
   "execution_count": 8,
   "metadata": {},
   "outputs": [
    {
     "name": "stdout",
     "output_type": "stream",
     "text": [
      "func:dnn.radix.hypergraph took: 0.0040\n"
     ]
    },
    {
     "data": {
      "image/png": "[encoded data removed]",
      "text/plain": [
       "<PIL.Image.Image image mode=RGB size=388x388 at 0x7FE63D205100>"
      ]
     },
     "execution_count": 8,
     "metadata": {},
     "output_type": "execute_result"
    }
   ],
   "source": [
    "from dnn import radix\n",
    "spec = [[2,2,2]]\n",
    "kron = [4,4,4,4]\n",
    "R = radix.radixnet(spec, kron, kron_op=pg.FP32.FIRST, initializer=radix.random_op)\n",
    "\n",
    "\n",
    "def shuf(A):\n",
    "    B = A.dup(clear=True)\n",
    "    arows = list(A[i] for i in A.rows)\n",
    "    shuffle(arows)\n",
    "    for i in A.rows:\n",
    "        B[i] = arows[i]\n",
    "    return B\n",
    "\n",
    "\n",
    "\n",
    "ht = radix.hypergraph(R)\n",
    "\n",
    "gviz.draw_matrix(ht, scale=3, labels=False, font_path=Path(\".\"))"
   ]
  },
  {
   "cell_type": "code",
   "execution_count": 9,
   "metadata": {
    "scrolled": false
   },
   "outputs": [
    {
     "data": {
      "application/vnd.jupyter.widget-view+json": {
       "model_id": "d601c685f119474d9a16a426af021d1c",
       "version_major": 2,
       "version_minor": 0
      },
      "text/plain": [
       "Cytoscape(data={'directed': True, 'elements': {'nodes': [{'data': {'id': '0'}}, {'data': {'id': '32'}}, {'data…"
      ]
     },
     "metadata": {},
     "output_type": "display_data"
    }
   ],
   "source": [
    "gviz.draw_cy(ht)"
   ]
  }
 ],
 "metadata": {
  "kernelspec": {
   "display_name": "Python 3",
   "language": "python",
   "name": "python3"
  },
  "language_info": {
   "codemirror_mode": {
    "name": "ipython",
    "version": 3
   },
   "file_extension": ".py",
   "mimetype": "text/x-python",
   "name": "python",
   "nbconvert_exporter": "python",
   "pygments_lexer": "ipython3",
   "version": "3.8.5"
  }
 },
 "nbformat": 4,
 "nbformat_minor": 4
}
